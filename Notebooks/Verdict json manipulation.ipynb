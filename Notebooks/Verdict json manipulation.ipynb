{
 "cells": [
  {
   "cell_type": "code",
   "execution_count": 9,
   "metadata": {},
   "outputs": [],
   "source": [
    "import json\n",
    "import pandas as pd"
   ]
  },
  {
   "cell_type": "code",
   "execution_count": 7,
   "metadata": {},
   "outputs": [
    {
     "name": "stdout",
     "output_type": "stream",
     "text": [
      "null\n"
     ]
    }
   ],
   "source": [
    "json_path = 'C:/Users/Itai/HebrewCourtVerdictsAnalyzer/ML/data/1-09-3.json'\n",
    "\n",
    "with open(json_path,'r') as json_file:\n",
    "    verdict = json.load(json_file)\n",
    "#['כבוד השופט איתי']\n",
    "\n",
    "verdict['_source']['doc']['Doc Details']['לפני מנורמל'] = ['כבוד השופט איתי']\n",
    "verdict['_source']['doc']['Doc Details']['העותר מנורמל'] = ['כבוד השופט איתי']\n",
    "verdict['_source']['doc']['Doc Details']['המשיב מנורמל'] = ['כבוד השופט איתי']    \n",
    "verdict['_source']['doc']['Doc Details']['בשם העותר מנורמל'] = ['כבוד השופט איתי']\n",
    "verdict['_source']['doc']['Doc Details']['בשם המשיב מנורמל'] = ['כבוד השופט איתי']\n",
    "\n",
    "\n",
    "with open(json_path,'w') as file:\n",
    "    json.dump(verdict,file,ensure_ascii=False)\n",
    "\n",
    "    print(json.dumps(file))"
   ]
  },
  {
   "cell_type": "code",
   "execution_count": 11,
   "metadata": {},
   "outputs": [
    {
     "name": "stdout",
     "output_type": "stream",
     "text": [
      "  Before After\n",
      "0    משה  שלמה\n",
      "1     מה   שלמ\n"
     ]
    }
   ],
   "source": [
    "json_path = 'C:/Users/Itai/HebrewCourtVerdictsAnalyzer/ML/data/1-09-3.json'\n",
    "\n",
    "with open(json_path,'r') as json_file:\n",
    "    verdict = json.load(json_file)\n",
    "#['כבוד השופט איתי']\n",
    "df = pd.DataFrame(data=[['משה','שלמה'],['מה','שלמ']],columns=['Before','After'])\n",
    "print(df)\n",
    "\n",
    "names = list()\n",
    "for idx,row in df.iterrows():\n",
    "    names.append(row['After'])\n",
    "\n",
    "verdict['_source']['doc']['Doc Details']['לפני מנורמל'] = names\n",
    "verdict['_source']['doc']['Doc Details']['העותר מנורמל'] = names\n",
    "verdict['_source']['doc']['Doc Details']['המשיב מנורמל'] = names\n",
    "verdict['_source']['doc']['Doc Details']['בשם העותר מנורמל'] =names\n",
    "verdict['_source']['doc']['Doc Details']['בשם המשיב מנורמל'] = names\n",
    "\n",
    "\n",
    "with open(json_path,'w') as file:\n",
    "    json.dump(verdict,file,ensure_ascii=False)\n",
    "\n"
   ]
  },
  {
   "cell_type": "code",
   "execution_count": null,
   "metadata": {},
   "outputs": [],
   "source": [
    "def check_if_key_exists(dictionary,key):\n",
    "    try:\n",
    "        return dictionary[key]\n",
    "    except KeyError:\n",
    "        return None"
   ]
  },
  {
   "cell_type": "code",
   "execution_count": null,
   "metadata": {},
   "outputs": [],
   "source": [
    "def locate_and_return_normalized_name(input_name,csv_name_to_normalized_path):\n",
    "    with open(path,\"r\",encoding=\"utf-8\") as csv_name:\n",
    "        csv_names = csv.reader(csv_name,delimiter=',')\n",
    "        names = [row[0] for row in csv_names]\n",
    "        normalized_names = [row[1] for row in csv_names]\n",
    "    dictionary = dict({names:normalized_names})\n",
    "    \n",
    "    if check_if_key_exists(dictionary,input_name) != None:\n",
    "        return dictionary[input_name]\n",
    "    else:\n",
    "        return None"
   ]
  },
  {
   "cell_type": "code",
   "execution_count": null,
   "metadata": {},
   "outputs": [],
   "source": [
    "def normalize_verict(verdict_path,csv_name_to_normalized_path,dest_path):\n",
    "    \n",
    "    with open(verdict_path,'r') as json_file:\n",
    "            \n",
    "        verdict = json.load(json_file)\n",
    "        verdict_id = verdict[\"_id\"]\n",
    "        judges = verdict[\"_source\"][\"doc\"][\"Doc Details\"][\"לפני\"]\n",
    "        petitioners = verdict[\"_source\"][\"doc\"][\"Doc Details\"][\"העותר\"]\n",
    "        defense = verdict[\"_source\"][\"doc\"][\"Doc Details\"][\"המשיב\"]\n",
    "        petitioner_attorneys = verdict[\"_source\"][\"doc\"][\"Doc Details\"][\"בשם העותר\"]\n",
    "        defendse_attorney = verdict[\"_source\"][\"doc\"][\"Doc Details\"][\"בשם המשיב\"]\n",
    "        \n",
    "    judges_normalized = []\n",
    "    petitioners_normalized = []\n",
    "    defense_normalized = []\n",
    "    petitioner_attorneys_normalized = []\n",
    "    defendse_attorney_normalized = []\n",
    "    \n",
    "    for (judge,petitioner,defendse,petitioner_attorney,defendse_attorney) in (judges,petitioners,defense,petitioner_attorneys,defendse_attorney):\n",
    "        judges_normalized.append(locate_and_return_normalized_name(judge,csv_name_to_normalized_path))\n",
    "        petitioners_normalized.append(locate_and_return_normalized_name(petitioner,csv_name_to_normalized_path))\n",
    "        defense_normalized.append(locate_and_return_normalized_name(defendse,csv_name_to_normalized_path))\n",
    "        petitioner_attorneys_normalized.append(locate_and_return_normalized_name(petitioner_attorney,csv_name_to_normalized_path))\n",
    "        defendse_attorney_normalized.append(locate_and_return_normalized_name(defendse_attorney,csv_name_to_normalized_path))\n",
    "    \n",
    "    \n",
    "    verdict['_source']['doc']['Doc Details']['לפני מנורמל'] = judges_normalized\n",
    "    verdict['_source']['doc']['Doc Details']['העותר מנורמל'] = petitioners_normalized\n",
    "    verdict['_source']['doc']['Doc Details']['המשיב מנורמל'] = defense_normalized\n",
    "    verdict['_source']['doc']['Doc Details']['בשם העותר מנורמל'] = petitioner_attorneys_normalized\n",
    "    verdict['_source']['doc']['Doc Details']['בשם המשיב מנורמל'] = defendse_attorney_normalized\n",
    "    \n",
    "    path = dest_path+'/'+verdict_id\n",
    "    with open(path,'w') as normalized_json:\n",
    "        json.dump(verdict,normalized_json,ensure_ascii=False)\n",
    "        "
   ]
  }
 ],
 "metadata": {
  "kernelspec": {
   "display_name": "Python 3",
   "language": "python",
   "name": "python3"
  },
  "language_info": {
   "codemirror_mode": {
    "name": "ipython",
    "version": 3
   },
   "file_extension": ".py",
   "mimetype": "text/x-python",
   "name": "python",
   "nbconvert_exporter": "python",
   "pygments_lexer": "ipython3",
   "version": "3.8.8"
  }
 },
 "nbformat": 4,
 "nbformat_minor": 4
}
